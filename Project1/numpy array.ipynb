{
 "cells": [
  {
   "cell_type": "code",
   "execution_count": 1,
   "metadata": {
    "scrolled": true
   },
   "outputs": [
    {
     "name": "stdout",
     "output_type": "stream",
     "text": [
      "[[[11 12 13 14 15]\n",
      "  [21 22 23 24 25]]\n",
      "\n",
      " [[ 0 31 32 33 34]\n",
      "  [41 42 43 44 45]]]\n"
     ]
    }
   ],
   "source": [
    "import numpy as np\n",
    "\n",
    "array1 = np.array([[[11,12,13,14,15],[21,22,23,24,25]],[[0,31,32,33,34],[41,42,43,44,45]]])\n",
    "print(array1)\n"
   ]
  },
  {
   "cell_type": "code",
   "execution_count": 2,
   "metadata": {},
   "outputs": [
    {
     "name": "stdout",
     "output_type": "stream",
     "text": [
      "<class 'numpy.ndarray'>\n",
      "3\n"
     ]
    }
   ],
   "source": [
    "print(type(array1))\n",
    "print(array1.ndim)\n",
    "\n"
   ]
  },
  {
   "cell_type": "code",
   "execution_count": 3,
   "metadata": {},
   "outputs": [
    {
     "name": "stdout",
     "output_type": "stream",
     "text": [
      "[[1 2 3 4 5]\n",
      " [1 2 3 4 6]]\n",
      "<class 'numpy.ndarray'>\n",
      "2\n",
      "\n",
      "\n"
     ]
    }
   ],
   "source": [
    "array2 = np.array([[1,2,3,4,5],[1,2,3,4,6]])\n",
    "print(array2)\n",
    "print(type(array2))\n",
    "print(array2.ndim)\n",
    "print(\"\\n\")\n"
   ]
  },
  {
   "cell_type": "code",
   "execution_count": 4,
   "metadata": {},
   "outputs": [
    {
     "name": "stdout",
     "output_type": "stream",
     "text": [
      "[1 2 3 4 5]\n",
      "<class 'numpy.ndarray'>\n",
      "1\n"
     ]
    }
   ],
   "source": [
    "arr3 = np.array([1,2,3,4,5])\n",
    "print(arr3)\n",
    "print(type(arr3))\n",
    "print(arr3.ndim)"
   ]
  },
  {
   "cell_type": "code",
   "execution_count": 5,
   "metadata": {},
   "outputs": [
    {
     "name": "stdout",
     "output_type": "stream",
     "text": [
      "[[0. 0. 0. 0. 0.]\n",
      " [0. 0. 0. 0. 0.]\n",
      " [0. 0. 0. 0. 0.]\n",
      " [0. 0. 0. 0. 0.]\n",
      " [0. 0. 0. 0. 0.]]\n",
      "\n",
      "\n",
      "[[False False]\n",
      " [False False]\n",
      " [False False]]\n"
     ]
    }
   ],
   "source": [
    "arrayZerosFiveFive = np.zeros((5,5), dtype=float)\n",
    "print(arrayZerosFiveFive)\n",
    "print(\"\\n\")\n",
    "arrayZerosThreeTwo = np.zeros((3,2),dtype=bool)\n",
    "print(arrayZerosThreeTwo)\n"
   ]
  },
  {
   "cell_type": "code",
   "execution_count": 7,
   "metadata": {},
   "outputs": [
    {
     "name": "stdout",
     "output_type": "stream",
     "text": [
      "[ 1.   5.3  9.6 13.9 18.2 22.5 26.8]\n"
     ]
    }
   ],
   "source": [
    "arrayRange = np.arange(1,30,4.3, dtype=float)\n",
    "print(arrayRange)"
   ]
  },
  {
   "cell_type": "code",
   "execution_count": 8,
   "metadata": {},
   "outputs": [
    {
     "name": "stdout",
     "output_type": "stream",
     "text": [
      "[['' 'Sachin' 'Tendulkar']\n",
      " ['Roger' '45' 'Federer']\n",
      " ['LeBron James' '3' '4']]\n",
      "Sachin\n"
     ]
    },
    {
     "data": {
      "text/plain": [
       "array([['', 'Sachin', 'Tendulkar'],\n",
       "       ['Roger', '45', 'Federer']], dtype='<U12')"
      ]
     },
     "execution_count": 8,
     "metadata": {},
     "output_type": "execute_result"
    }
   ],
   "source": [
    "data = np.array([['','Sachin','Tendulkar'],['Roger',45,'Federer'],['LeBron James',3,4]])\n",
    "print(data)\n",
    "print(data[0][1])\n",
    "\n",
    "#retrieves 3rd column from all rows\n",
    "data[:2]"
   ]
  },
  {
   "cell_type": "code",
   "execution_count": 12,
   "metadata": {},
   "outputs": [
    {
     "name": "stdout",
     "output_type": "stream",
     "text": [
      "<class 'list'>End of list 1 \n",
      " <class 'tuple'>,<class 'dict'> \n",
      "\n",
      "-------------------------------------------------------------\n",
      "\n",
      "['paris' 'NY' 'Dehli' 'India'] <class 'numpy.ndarray'> \n",
      "\n",
      "['dog' 'cat' 'bat'] <class 'numpy.ndarray'> \n",
      "\n"
     ]
    }
   ],
   "source": [
    "#converting list,tuples and dictionaries to numpy array\n",
    "\n",
    "list1 = [\"paris\",\"NY\",\"Dehli\",\"India\"]\n",
    "print(type(list1),end=\"End of list 1 \\n \")\n",
    "tuple1 = ('dog','cat','bat')\n",
    "print(type(tuple1),end=\",\")\n",
    "dictionary = {0:'Zero',1:'One',2:'Two', 3:'Three'}\n",
    "print(type(dictionary),'\\n')\n",
    "print('-------------------------------------------------------------\\n')\n",
    "arr3 = np.array(list1)\n",
    "print(arr3,type(arr3),'\\n')\n",
    "arr4 = np.array(tuple1)\n",
    "print(arr4,type(arr4),'\\n')\n"
   ]
  },
  {
   "cell_type": "code",
   "execution_count": 14,
   "metadata": {},
   "outputs": [
    {
     "name": "stdout",
     "output_type": "stream",
     "text": [
      "[['dog']\n",
      " ['cat']\n",
      " ['bat']] \n",
      " The dimensions of arr4 after reshaping is : 2\n",
      "dog & cat & bat\n",
      "\n",
      "dict to array is :\n",
      " [['0' 'Zero']\n",
      " ['1' 'One']\n",
      " ['2' 'Two']\n",
      " ['3' 'Three']]\n",
      "\n",
      " 2\n",
      "\n",
      " <class 'numpy.ndarray'>\n",
      "\n",
      " <class 'dict'>\n"
     ]
    }
   ],
   "source": [
    "#reshaping 1d array (i.e. tuple1 to 1d array) to 2d array\n",
    "arr4_2dimesional = arr4.reshape(3,1)\n",
    "print(arr4_2d,'\\n','The dimensions of arr4 after reshaping is :',arr4_2d.ndim)\n",
    "arr4_2d[:,0]\n",
    "print(arr4_2d[0][0],'&',arr4_2d[1][0],'&',arr4_2d[2][0])\n",
    "\n",
    "#dictionary to numpy array\n",
    "\n",
    "result = dictionary.items()\n",
    "data = list(result)\n",
    "ndarray=np.array(data)\n",
    "\n",
    "print('\\ndict to array is :\\n',ndarray)\n",
    "print('\\n',ndarray.ndim)\n",
    "print('\\n',type(ndarray))\n",
    "print('\\n',type(dictionary))"
   ]
  },
  {
   "cell_type": "code",
   "execution_count": 2,
   "metadata": {},
   "outputs": [],
   "source": [
    "import pandas as pd"
   ]
  },
  {
   "cell_type": "code",
   "execution_count": 3,
   "metadata": {},
   "outputs": [
    {
     "data": {
      "text/html": [
       "<div>\n",
       "<style scoped>\n",
       "    .dataframe tbody tr th:only-of-type {\n",
       "        vertical-align: middle;\n",
       "    }\n",
       "\n",
       "    .dataframe tbody tr th {\n",
       "        vertical-align: top;\n",
       "    }\n",
       "\n",
       "    .dataframe thead th {\n",
       "        text-align: right;\n",
       "    }\n",
       "</style>\n",
       "<table border=\"1\" class=\"dataframe\">\n",
       "  <thead>\n",
       "    <tr style=\"text-align: right;\">\n",
       "      <th></th>\n",
       "      <th>Names</th>\n",
       "      <th>Rankings</th>\n",
       "      <th>cost</th>\n",
       "    </tr>\n",
       "  </thead>\n",
       "  <tbody>\n",
       "    <tr>\n",
       "      <th>0</th>\n",
       "      <td>Jack Ma</td>\n",
       "      <td>250</td>\n",
       "      <td>103</td>\n",
       "    </tr>\n",
       "    <tr>\n",
       "      <th>1</th>\n",
       "      <td>Brandon</td>\n",
       "      <td>10</td>\n",
       "      <td>220</td>\n",
       "    </tr>\n",
       "    <tr>\n",
       "      <th>2</th>\n",
       "      <td>Liza</td>\n",
       "      <td>320</td>\n",
       "      <td>3450</td>\n",
       "    </tr>\n",
       "    <tr>\n",
       "      <th>3</th>\n",
       "      <td>Musk</td>\n",
       "      <td>650</td>\n",
       "      <td>140</td>\n",
       "    </tr>\n",
       "  </tbody>\n",
       "</table>\n",
       "</div>"
      ],
      "text/plain": [
       "     Names  Rankings  cost\n",
       "0  Jack Ma       250   103\n",
       "1  Brandon        10   220\n",
       "2     Liza       320  3450\n",
       "3     Musk       650   140"
      ]
     },
     "execution_count": 3,
     "metadata": {},
     "output_type": "execute_result"
    }
   ],
   "source": [
    "#creating dataframe from various data types\n",
    "\n",
    "#from dictionary\n",
    "data = {\"Names\":[\"Jack Ma\",\"Brandon\",\"Liza\",\"Musk\"],'Rankings':[250,10,320,650],'cost':[103,220,3450,140]}\n",
    "df3 = pd.DataFrame(data)\n",
    "df3\n",
    "\n"
   ]
  },
  {
   "cell_type": "code",
   "execution_count": 11,
   "metadata": {},
   "outputs": [
    {
     "data": {
      "text/html": [
       "<div>\n",
       "<style scoped>\n",
       "    .dataframe tbody tr th:only-of-type {\n",
       "        vertical-align: middle;\n",
       "    }\n",
       "\n",
       "    .dataframe tbody tr th {\n",
       "        vertical-align: top;\n",
       "    }\n",
       "\n",
       "    .dataframe thead th {\n",
       "        text-align: right;\n",
       "    }\n",
       "</style>\n",
       "<table border=\"1\" class=\"dataframe\">\n",
       "  <thead>\n",
       "    <tr style=\"text-align: right;\">\n",
       "      <th></th>\n",
       "      <th>player_name</th>\n",
       "      <th>team_abbreviation</th>\n",
       "      <th>age</th>\n",
       "      <th>player_height</th>\n",
       "      <th>player_weight</th>\n",
       "      <th>college</th>\n",
       "      <th>country</th>\n",
       "      <th>draft_year</th>\n",
       "      <th>draft_round</th>\n",
       "      <th>draft_number</th>\n",
       "      <th>...</th>\n",
       "      <th>pts</th>\n",
       "      <th>reb</th>\n",
       "      <th>ast</th>\n",
       "      <th>net_rating</th>\n",
       "      <th>oreb_pct</th>\n",
       "      <th>dreb_pct</th>\n",
       "      <th>usg_pct</th>\n",
       "      <th>ts_pct</th>\n",
       "      <th>ast_pct</th>\n",
       "      <th>season</th>\n",
       "    </tr>\n",
       "  </thead>\n",
       "  <tbody>\n",
       "    <tr>\n",
       "      <th>0</th>\n",
       "      <td>Dennis Rodman</td>\n",
       "      <td>CHI</td>\n",
       "      <td>36.0</td>\n",
       "      <td>198.12</td>\n",
       "      <td>99.790240</td>\n",
       "      <td>Southeastern Oklahoma State</td>\n",
       "      <td>USA</td>\n",
       "      <td>1986</td>\n",
       "      <td>2</td>\n",
       "      <td>27</td>\n",
       "      <td>...</td>\n",
       "      <td>5.7</td>\n",
       "      <td>16.1</td>\n",
       "      <td>3.1</td>\n",
       "      <td>16.1</td>\n",
       "      <td>0.186</td>\n",
       "      <td>0.323</td>\n",
       "      <td>0.100</td>\n",
       "      <td>0.479</td>\n",
       "      <td>0.113</td>\n",
       "      <td>1996-97</td>\n",
       "    </tr>\n",
       "    <tr>\n",
       "      <th>1</th>\n",
       "      <td>Dwayne Schintzius</td>\n",
       "      <td>LAC</td>\n",
       "      <td>28.0</td>\n",
       "      <td>215.90</td>\n",
       "      <td>117.933920</td>\n",
       "      <td>Florida</td>\n",
       "      <td>USA</td>\n",
       "      <td>1990</td>\n",
       "      <td>1</td>\n",
       "      <td>24</td>\n",
       "      <td>...</td>\n",
       "      <td>2.3</td>\n",
       "      <td>1.5</td>\n",
       "      <td>0.3</td>\n",
       "      <td>12.3</td>\n",
       "      <td>0.078</td>\n",
       "      <td>0.151</td>\n",
       "      <td>0.175</td>\n",
       "      <td>0.430</td>\n",
       "      <td>0.048</td>\n",
       "      <td>1996-97</td>\n",
       "    </tr>\n",
       "    <tr>\n",
       "      <th>2</th>\n",
       "      <td>Earl Cureton</td>\n",
       "      <td>TOR</td>\n",
       "      <td>39.0</td>\n",
       "      <td>205.74</td>\n",
       "      <td>95.254320</td>\n",
       "      <td>Detroit Mercy</td>\n",
       "      <td>USA</td>\n",
       "      <td>1979</td>\n",
       "      <td>3</td>\n",
       "      <td>58</td>\n",
       "      <td>...</td>\n",
       "      <td>0.8</td>\n",
       "      <td>1.0</td>\n",
       "      <td>0.4</td>\n",
       "      <td>-2.1</td>\n",
       "      <td>0.105</td>\n",
       "      <td>0.102</td>\n",
       "      <td>0.103</td>\n",
       "      <td>0.376</td>\n",
       "      <td>0.148</td>\n",
       "      <td>1996-97</td>\n",
       "    </tr>\n",
       "    <tr>\n",
       "      <th>3</th>\n",
       "      <td>Ed O'Bannon</td>\n",
       "      <td>DAL</td>\n",
       "      <td>24.0</td>\n",
       "      <td>203.20</td>\n",
       "      <td>100.697424</td>\n",
       "      <td>UCLA</td>\n",
       "      <td>USA</td>\n",
       "      <td>1995</td>\n",
       "      <td>1</td>\n",
       "      <td>9</td>\n",
       "      <td>...</td>\n",
       "      <td>3.7</td>\n",
       "      <td>2.3</td>\n",
       "      <td>0.6</td>\n",
       "      <td>-8.7</td>\n",
       "      <td>0.060</td>\n",
       "      <td>0.149</td>\n",
       "      <td>0.167</td>\n",
       "      <td>0.399</td>\n",
       "      <td>0.077</td>\n",
       "      <td>1996-97</td>\n",
       "    </tr>\n",
       "    <tr>\n",
       "      <th>4</th>\n",
       "      <td>Ed Pinckney</td>\n",
       "      <td>MIA</td>\n",
       "      <td>34.0</td>\n",
       "      <td>205.74</td>\n",
       "      <td>108.862080</td>\n",
       "      <td>Villanova</td>\n",
       "      <td>USA</td>\n",
       "      <td>1985</td>\n",
       "      <td>1</td>\n",
       "      <td>10</td>\n",
       "      <td>...</td>\n",
       "      <td>2.4</td>\n",
       "      <td>2.4</td>\n",
       "      <td>0.2</td>\n",
       "      <td>-11.2</td>\n",
       "      <td>0.109</td>\n",
       "      <td>0.179</td>\n",
       "      <td>0.127</td>\n",
       "      <td>0.611</td>\n",
       "      <td>0.040</td>\n",
       "      <td>1996-97</td>\n",
       "    </tr>\n",
       "    <tr>\n",
       "      <th>5</th>\n",
       "      <td>Eddie Johnson</td>\n",
       "      <td>HOU</td>\n",
       "      <td>38.0</td>\n",
       "      <td>200.66</td>\n",
       "      <td>97.522280</td>\n",
       "      <td>Illinois</td>\n",
       "      <td>USA</td>\n",
       "      <td>1981</td>\n",
       "      <td>2</td>\n",
       "      <td>29</td>\n",
       "      <td>...</td>\n",
       "      <td>8.2</td>\n",
       "      <td>2.7</td>\n",
       "      <td>1.0</td>\n",
       "      <td>4.1</td>\n",
       "      <td>0.034</td>\n",
       "      <td>0.126</td>\n",
       "      <td>0.220</td>\n",
       "      <td>0.541</td>\n",
       "      <td>0.102</td>\n",
       "      <td>1996-97</td>\n",
       "    </tr>\n",
       "    <tr>\n",
       "      <th>6</th>\n",
       "      <td>Eddie Jones</td>\n",
       "      <td>LAL</td>\n",
       "      <td>25.0</td>\n",
       "      <td>198.12</td>\n",
       "      <td>86.182480</td>\n",
       "      <td>Temple</td>\n",
       "      <td>USA</td>\n",
       "      <td>1994</td>\n",
       "      <td>1</td>\n",
       "      <td>10</td>\n",
       "      <td>...</td>\n",
       "      <td>17.2</td>\n",
       "      <td>4.1</td>\n",
       "      <td>3.4</td>\n",
       "      <td>4.1</td>\n",
       "      <td>0.035</td>\n",
       "      <td>0.091</td>\n",
       "      <td>0.209</td>\n",
       "      <td>0.559</td>\n",
       "      <td>0.149</td>\n",
       "      <td>1996-97</td>\n",
       "    </tr>\n",
       "    <tr>\n",
       "      <th>7</th>\n",
       "      <td>Elden Campbell</td>\n",
       "      <td>LAL</td>\n",
       "      <td>28.0</td>\n",
       "      <td>213.36</td>\n",
       "      <td>113.398000</td>\n",
       "      <td>Clemson</td>\n",
       "      <td>USA</td>\n",
       "      <td>1990</td>\n",
       "      <td>1</td>\n",
       "      <td>27</td>\n",
       "      <td>...</td>\n",
       "      <td>14.9</td>\n",
       "      <td>8.0</td>\n",
       "      <td>1.6</td>\n",
       "      <td>3.3</td>\n",
       "      <td>0.095</td>\n",
       "      <td>0.183</td>\n",
       "      <td>0.222</td>\n",
       "      <td>0.520</td>\n",
       "      <td>0.087</td>\n",
       "      <td>1996-97</td>\n",
       "    </tr>\n",
       "    <tr>\n",
       "      <th>8</th>\n",
       "      <td>Eldridge Recasner</td>\n",
       "      <td>ATL</td>\n",
       "      <td>29.0</td>\n",
       "      <td>193.04</td>\n",
       "      <td>86.182480</td>\n",
       "      <td>Washington</td>\n",
       "      <td>USA</td>\n",
       "      <td>1992</td>\n",
       "      <td>Undrafted</td>\n",
       "      <td>Undrafted</td>\n",
       "      <td>...</td>\n",
       "      <td>5.7</td>\n",
       "      <td>1.6</td>\n",
       "      <td>1.3</td>\n",
       "      <td>-0.3</td>\n",
       "      <td>0.036</td>\n",
       "      <td>0.076</td>\n",
       "      <td>0.172</td>\n",
       "      <td>0.539</td>\n",
       "      <td>0.141</td>\n",
       "      <td>1996-97</td>\n",
       "    </tr>\n",
       "    <tr>\n",
       "      <th>9</th>\n",
       "      <td>Elliot Perry</td>\n",
       "      <td>MIL</td>\n",
       "      <td>28.0</td>\n",
       "      <td>182.88</td>\n",
       "      <td>72.574720</td>\n",
       "      <td>Memphis</td>\n",
       "      <td>USA</td>\n",
       "      <td>1991</td>\n",
       "      <td>2</td>\n",
       "      <td>37</td>\n",
       "      <td>...</td>\n",
       "      <td>6.9</td>\n",
       "      <td>1.5</td>\n",
       "      <td>3.0</td>\n",
       "      <td>-1.2</td>\n",
       "      <td>0.018</td>\n",
       "      <td>0.081</td>\n",
       "      <td>0.177</td>\n",
       "      <td>0.557</td>\n",
       "      <td>0.262</td>\n",
       "      <td>1996-97</td>\n",
       "    </tr>\n",
       "  </tbody>\n",
       "</table>\n",
       "<p>10 rows × 21 columns</p>\n",
       "</div>"
      ],
      "text/plain": [
       "         player_name team_abbreviation   age  player_height  player_weight  \\\n",
       "0      Dennis Rodman               CHI  36.0         198.12      99.790240   \n",
       "1  Dwayne Schintzius               LAC  28.0         215.90     117.933920   \n",
       "2       Earl Cureton               TOR  39.0         205.74      95.254320   \n",
       "3        Ed O'Bannon               DAL  24.0         203.20     100.697424   \n",
       "4        Ed Pinckney               MIA  34.0         205.74     108.862080   \n",
       "5      Eddie Johnson               HOU  38.0         200.66      97.522280   \n",
       "6        Eddie Jones               LAL  25.0         198.12      86.182480   \n",
       "7     Elden Campbell               LAL  28.0         213.36     113.398000   \n",
       "8  Eldridge Recasner               ATL  29.0         193.04      86.182480   \n",
       "9       Elliot Perry               MIL  28.0         182.88      72.574720   \n",
       "\n",
       "                       college country draft_year draft_round draft_number  \\\n",
       "0  Southeastern Oklahoma State     USA       1986           2           27   \n",
       "1                      Florida     USA       1990           1           24   \n",
       "2                Detroit Mercy     USA       1979           3           58   \n",
       "3                         UCLA     USA       1995           1            9   \n",
       "4                    Villanova     USA       1985           1           10   \n",
       "5                     Illinois     USA       1981           2           29   \n",
       "6                       Temple     USA       1994           1           10   \n",
       "7                      Clemson     USA       1990           1           27   \n",
       "8                   Washington     USA       1992   Undrafted    Undrafted   \n",
       "9                      Memphis     USA       1991           2           37   \n",
       "\n",
       "   ...   pts   reb  ast  net_rating  oreb_pct  dreb_pct  usg_pct  ts_pct  \\\n",
       "0  ...   5.7  16.1  3.1        16.1     0.186     0.323    0.100   0.479   \n",
       "1  ...   2.3   1.5  0.3        12.3     0.078     0.151    0.175   0.430   \n",
       "2  ...   0.8   1.0  0.4        -2.1     0.105     0.102    0.103   0.376   \n",
       "3  ...   3.7   2.3  0.6        -8.7     0.060     0.149    0.167   0.399   \n",
       "4  ...   2.4   2.4  0.2       -11.2     0.109     0.179    0.127   0.611   \n",
       "5  ...   8.2   2.7  1.0         4.1     0.034     0.126    0.220   0.541   \n",
       "6  ...  17.2   4.1  3.4         4.1     0.035     0.091    0.209   0.559   \n",
       "7  ...  14.9   8.0  1.6         3.3     0.095     0.183    0.222   0.520   \n",
       "8  ...   5.7   1.6  1.3        -0.3     0.036     0.076    0.172   0.539   \n",
       "9  ...   6.9   1.5  3.0        -1.2     0.018     0.081    0.177   0.557   \n",
       "\n",
       "   ast_pct   season  \n",
       "0    0.113  1996-97  \n",
       "1    0.048  1996-97  \n",
       "2    0.148  1996-97  \n",
       "3    0.077  1996-97  \n",
       "4    0.040  1996-97  \n",
       "5    0.102  1996-97  \n",
       "6    0.149  1996-97  \n",
       "7    0.087  1996-97  \n",
       "8    0.141  1996-97  \n",
       "9    0.262  1996-97  \n",
       "\n",
       "[10 rows x 21 columns]"
      ]
     },
     "execution_count": 11,
     "metadata": {},
     "output_type": "execute_result"
    }
   ],
   "source": [
    "\n",
    "NbaAllSeasonsData = pd.read_csv('all_seasons.csv',index_col=0)\n",
    "NbaAllSeasonsData.head(10)\n"
   ]
  },
  {
   "cell_type": "code",
   "execution_count": 12,
   "metadata": {},
   "outputs": [
    {
     "name": "stdout",
     "output_type": "stream",
     "text": [
      "              player_name   age\n",
      "0           Dennis Rodman  36.0\n",
      "1       Dwayne Schintzius  28.0\n",
      "2            Earl Cureton  39.0\n",
      "3             Ed O'Bannon  24.0\n",
      "4             Ed Pinckney  34.0\n",
      "...                   ...   ...\n",
      "11140         Maxi Kleber  28.0\n",
      "11141  Melvin Frazier Jr.  23.0\n",
      "11142      Meyers Leonard  28.0\n",
      "11143        Norvel Pelle  27.0\n",
      "11144         Matt Thomas  25.0\n",
      "\n",
      "[11145 rows x 2 columns]\n"
     ]
    }
   ],
   "source": [
    "\n",
    "playerNameAge = pd.DataFrame(data1,columns=['player_name','age'])\n",
    "print(playerNameAge)"
   ]
  },
  {
   "cell_type": "code",
   "execution_count": null,
   "metadata": {},
   "outputs": [],
   "source": []
  }
 ],
 "metadata": {
  "kernelspec": {
   "display_name": "Python 3",
   "language": "python",
   "name": "python3"
  },
  "language_info": {
   "codemirror_mode": {
    "name": "ipython",
    "version": 3
   },
   "file_extension": ".py",
   "mimetype": "text/x-python",
   "name": "python",
   "nbconvert_exporter": "python",
   "pygments_lexer": "ipython3",
   "version": "3.8.4rc1"
  }
 },
 "nbformat": 4,
 "nbformat_minor": 4
}
